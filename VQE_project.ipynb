{
 "cells": [
  {
   "cell_type": "code",
   "execution_count": 38,
   "metadata": {},
   "outputs": [],
   "source": [
    "import numpy as np\n",
    "import pennylane as qml\n",
    "from pennylane import qchem\n",
    "import matplotlib.pyplot as plt"
   ]
  },
  {
   "cell_type": "markdown",
   "metadata": {},
   "source": [
    "We now need to get the molecular hamiltonian of $LiH$ through qchem's library molecular_hamiltonian function, which gives us the hamiltonian in the form a Pauli String (a linear combination of Pauli matrices and the identity matrix):"
   ]
  },
  {
   "cell_type": "code",
   "execution_count": 92,
   "metadata": {},
   "outputs": [
    {
     "name": "stdout",
     "output_type": "stream",
     "text": [
      "12\n"
     ]
    }
   ],
   "source": [
    "symbols = [\"Li\", \"H\"]\n",
    "coordinates = np.array([[0, 0,  0], [0, 1.596, 0]])\n",
    "hamiltonian, num_qubits = qchem.molecular_hamiltonian(symbols, coordinates)\n",
    "print(num_qubits)"
   ]
  },
  {
   "cell_type": "code",
   "execution_count": 93,
   "metadata": {},
   "outputs": [],
   "source": [
    "numQubits = int(input(\"number of qubits :\"))\n",
    "numElec = int(input(\"number of electrons :\"))"
   ]
  },
  {
   "cell_type": "markdown",
   "metadata": {},
   "source": [
    "We prepare our qubits initially in a Hartree-Fock state, which is obtained by minimizing the interaction energy of each electron with the average field produced by the other electrons, leaving out electron-electron correlations. This justifies the need to further refine this approach by resorting to the VQE algorithm to effectively find the ground state of the system.\n",
    "Since qubits, in quantum chemistry, are encoding spin orbitals, the Fock-Hartree state, in which the electrons will first try to occupy the lowest energy orbitals, is always represented with the qubit $\\ket{1...1 0...0}$ with as much ones as there are electrons.\n",
    "will use 20 qubits since $N_{2}$ has 10 molecular orbitals, multiplied by two to account for the spin-up and spin-down spin orbitals :"
   ]
  },
  {
   "cell_type": "code",
   "execution_count": 94,
   "metadata": {},
   "outputs": [
    {
     "name": "stdout",
     "output_type": "stream",
     "text": [
      "[1, 1, 1, 1, 0, 0, 0, 0, 0, 0, 0, 0]\n"
     ]
    }
   ],
   "source": [
    "HFstate = [1 for i in range(numElec)] + [0 for i in range(numQubits - numElec)]\n",
    "\n",
    "print(HFstate)"
   ]
  },
  {
   "cell_type": "markdown",
   "metadata": {},
   "source": [
    "We want to build our \"Operator Pool\"; which is all the list of all operators that we will need to build our ansatz, which will be a superposition of the Hartree-Fock state $\\ket{1...10...0}$ and the states obtained through either a single-excitation or a double-excitation of the Hartree-Fock state. Thus we will resort to single and double-excitation gates $G(\\theta)$ and $G^{(2)}(\\theta)$, which respectively introduce a coupling between $\\ket{01}$ and $\\ket{10}$, and between $\\ket{0011}$ and $\\ket{1100}$ : $$G^{(2)}(\\theta)\\ket{0011} = \\cos(\\frac{\\theta}{2})\\ket{0011} + \\sin(\\frac{\\theta}{2})\\ket{1100}$$\n",
    "$$G^{(2)}(\\theta)\\ket{1100} = \\cos(\\frac{\\theta}{2})\\ket{1100} - \\sin(\\frac{\\theta}{2})\\ket{0011}$$\n",
    "So we code a function that gives us the list of all single and double-excitation, these have to verify the spin selection rule $\\Delta S = 0$ rule, stating that a given excitation, the variation in spin of the molecule must be zero :\n",
    "\n",
    "\n",
    "\n"
   ]
  },
  {
   "cell_type": "code",
   "execution_count": 95,
   "metadata": {},
   "outputs": [
    {
     "name": "stdout",
     "output_type": "stream",
     "text": [
      "([[0, 4], [0, 6], [0, 8], [0, 10], [1, 5], [1, 7], [1, 9], [1, 11], [2, 4], [2, 6], [2, 8], [2, 10], [3, 5], [3, 7], [3, 9], [3, 11]], [[0, 1, 4, 5], [0, 1, 4, 7], [0, 1, 4, 9], [0, 1, 4, 11], [0, 1, 5, 6], [0, 1, 5, 8], [0, 1, 5, 10], [0, 1, 6, 7], [0, 1, 6, 9], [0, 1, 6, 11], [0, 1, 7, 8], [0, 1, 7, 10], [0, 1, 8, 9], [0, 1, 8, 11], [0, 1, 9, 10], [0, 1, 10, 11], [0, 2, 4, 6], [0, 2, 4, 8], [0, 2, 4, 10], [0, 2, 6, 8], [0, 2, 6, 10], [0, 2, 8, 10], [0, 3, 4, 5], [0, 3, 4, 7], [0, 3, 4, 9], [0, 3, 4, 11], [0, 3, 5, 6], [0, 3, 5, 8], [0, 3, 5, 10], [0, 3, 6, 7], [0, 3, 6, 9], [0, 3, 6, 11], [0, 3, 7, 8], [0, 3, 7, 10], [0, 3, 8, 9], [0, 3, 8, 11], [0, 3, 9, 10], [0, 3, 10, 11], [1, 2, 4, 5], [1, 2, 4, 7], [1, 2, 4, 9], [1, 2, 4, 11], [1, 2, 5, 6], [1, 2, 5, 8], [1, 2, 5, 10], [1, 2, 6, 7], [1, 2, 6, 9], [1, 2, 6, 11], [1, 2, 7, 8], [1, 2, 7, 10], [1, 2, 8, 9], [1, 2, 8, 11], [1, 2, 9, 10], [1, 2, 10, 11], [1, 3, 5, 7], [1, 3, 5, 9], [1, 3, 5, 11], [1, 3, 7, 9], [1, 3, 7, 11], [1, 3, 9, 11], [2, 3, 4, 5], [2, 3, 4, 7], [2, 3, 4, 9], [2, 3, 4, 11], [2, 3, 5, 6], [2, 3, 5, 8], [2, 3, 5, 10], [2, 3, 6, 7], [2, 3, 6, 9], [2, 3, 6, 11], [2, 3, 7, 8], [2, 3, 7, 10], [2, 3, 8, 9], [2, 3, 8, 11], [2, 3, 9, 10], [2, 3, 10, 11]])\n"
     ]
    }
   ],
   "source": [
    "def singleExcitations(numberOfElectrons, numberOfQubits) :\n",
    "    single = []\n",
    "    for i in range(numberOfElectrons) :\n",
    "        j = numberOfElectrons\n",
    "        if (j % 2 != i % 2) : #verify if j and i correspond to different spin\n",
    "            j += 1 #we add 1 so that j and i have same spin hence verifying the spin selection rule\n",
    "        while (j < numberOfQubits) :\n",
    "            single.append([i, j])\n",
    "            j+=2\n",
    "    return single\n",
    "\n",
    "\n",
    "def doubleExcitations(numberOfElectrons, numberOfQubits) :\n",
    "    double = []\n",
    "    for electron1 in range(14) :\n",
    "        for electron2 in range(electron1 + 1, numberOfElectrons) :\n",
    "            if (electron1 % 2 == 0 and electron2 % 2 == 0 ) : #both spins are positive\n",
    "                newOrbital1 = numberOfElectrons + (numberOfElectrons % 2) #it must be an orbital with +1/2spin\n",
    "                toAdd = 2\n",
    "            elif (electron1 % 2 == 1 and electron2 % 2 == 1 ) : # both spins are negative\n",
    "                newOrbital1 = numberOfElectrons + (1 - numberOfElectrons % 2) #it must be an orbital with -1/2spin\n",
    "                toAdd = 2\n",
    "            else :  #the spins of the transitionning electrons are opposite\n",
    "                newOrbital1 = numberOfElectrons\n",
    "                toAdd = 1 #the spin orbitals must have opposite spin\n",
    "            while (newOrbital1 < numberOfQubits) :\n",
    "                newOrbital2 = newOrbital1 + toAdd\n",
    "                while (newOrbital2 < numberOfQubits ) :\n",
    "                    double.append([electron1, electron2, newOrbital1, newOrbital2])\n",
    "                    newOrbital2 += 2\n",
    "                newOrbital1 += toAdd\n",
    "    return double\n",
    "                    \n",
    "\n",
    "def excitations(numberOfElectrons, numberOfQubits) :\n",
    "    return singleExcitations(numberOfElectrons, numberOfQubits), doubleExcitations(numberOfElectrons, numberOfQubits)\n",
    "\n",
    "print(excitations(numElec, numQubits))\n",
    "\n",
    "single, double = excitations(numElec, numQubits)"
   ]
  },
  {
   "cell_type": "markdown",
   "metadata": {},
   "source": [
    "However taking into account all these excitations is computationally expensive for larger molecule and makes the algorithm more prone to errors, especially since we interate until we reach convergence, hence we should select the most significant excitations : to do that, we calculate the gradient of all these excitations, only keeping excitations for which the absolute value of the derivative of the expectation value of the hamiltonian with respect to the parameter associated to the excitation is past a certain threshhold (this is the basis of adaptive VQE), so we code a function to calculate the gradient of all excitations. We use the parameter-shift rule, which allows us to calculate the gradient at the same time of calculating the output of the quantum circuit. It states that for a parameter $\\theta_i$, we have for an observable H :\n",
    "$$\\frac{\\partial \\langle H \\rangle}{\\partial \\theta} = \\frac{1}{2} \\left( \\langle \\psi(\\theta + \\frac{\\pi}{2}) | H | \\psi(\\theta + \\frac{\\pi}{2}) \\rangle - \\langle \\psi(\\theta - \\frac{\\pi}{2}) | H | \\psi(\\theta - \\frac{\\pi}{2}) \\rangle \\right)$$\n",
    "We start by designing the circuit, then we will apply the parameter-shift rule :"
   ]
  },
  {
   "cell_type": "code",
   "execution_count": 98,
   "metadata": {},
   "outputs": [],
   "source": [
    "\n",
    "\n",
    "single, double = excitations(numElec, numQubits)\n",
    "\n",
    "dev = qml.device(\"default.qubit\", wires = numQubits) #we define the parameters of our circuits\n",
    "\n",
    "def circuit(parameters) :\n",
    "    i = 0 #index of the parameter\n",
    "    qml.BasisState(HFstate, wires = range(numQubits))\n",
    "    single, double = excitations(numElec, numQubits)\n",
    "\n",
    "    for s in single :\n",
    "        qml.SingleExcitation(parameters[i], wires = s)\n",
    "        i+= 1\n",
    "\n",
    "    for d in double :\n",
    "        qml.DoubleExcitation(parameters[i], wires = d)\n",
    "        i+= 1\n",
    "@qml.qnode(dev)\n",
    "\n",
    "def costFunction(parameters) :\n",
    "    circuit(parameters)\n",
    "    return qml.expval(hamiltonian)\n"
   ]
  },
  {
   "cell_type": "code",
   "execution_count": 99,
   "metadata": {},
   "outputs": [],
   "source": [
    "def gradient(cost_fn, params):\n",
    "    grad = np.zeros(len(params))\n",
    "    for j in range(len(params)) :\n",
    "        storedValue = params[j]\n",
    "        params[j] += np.pi/2\n",
    "        forwardShift = params.copy()\n",
    "        params[j] -= np.pi\n",
    "        backwardShift = params.copy()\n",
    "        grad[j] = 1/2 * (cost_fn(forwardShift) - cost_fn(backwardShift))\n",
    "        params[j] = storedValue #reset the parameter value to its previous value for the next derivative computation\n",
    "    return grad"
   ]
  },
  {
   "cell_type": "code",
   "execution_count": 100,
   "metadata": {},
   "outputs": [],
   "source": [
    "selectedSingle = []\n",
    "selectedDouble = []  \n",
    "\n",
    "lengthSingle = len(single)\n",
    "lengthDouble = len(double)\n",
    "param1 = [0]*(lengthSingle + lengthDouble)\n",
    "\n",
    "grad = gradient(costFunction, param1)\n",
    "for j in range(lengthSingle) :\n",
    "    if (abs(grad[j]) > 10E-8) :\n",
    "        selectedSingle.append(single[j])\n",
    "for j in range(lengthSingle, lengthSingle + lengthDouble) :\n",
    "    if (abs(grad[j]) > 10E-8) :\n",
    "        selectedDouble.append(double[j - lengthSingle])\n",
    "\n",
    "    "
   ]
  },
  {
   "cell_type": "markdown",
   "metadata": {},
   "source": [
    "It is worth noting that due to the great number of gates used, the calculation of the gradient is very costly (for big molecules) since it implies the execution of the unoptimized circuit twice for each excitation gate, which means that, in order to gain an advantage from this approach, one has to build and keep, through this method, a database of all relevant excitations for future computations.\n",
    "\n",
    "\n",
    "We now define the optimized circuit, which now only uses relevant gates, and the associated cost function :"
   ]
  },
  {
   "cell_type": "code",
   "execution_count": 101,
   "metadata": {},
   "outputs": [],
   "source": [
    "\n",
    "def optimizedCircuit(parameters) :\n",
    "    i = 0 #index of the parameter\n",
    "    qml.BasisState(HFstate, wires = range(numQubits))\n",
    "    for s in selectedSingle :\n",
    "        qml.SingleExcitation(parameters[i], wires = s)\n",
    "        i+= 1\n",
    "    for d in selectedDouble :\n",
    "        qml.DoubleExcitation(parameters[i], wires = d)\n",
    "        i+= 1\n",
    "\n",
    "@qml.qnode(dev)\n",
    "def optiCostFunction(parameters) :\n",
    "    optimizedCircuit(parameters)\n",
    "    return qml.expval(hamiltonian)\n",
    "\n",
    "param2 = [0]*(len(selectedSingle) + len(selectedDouble))"
   ]
  },
  {
   "cell_type": "markdown",
   "metadata": {},
   "source": [
    "We can now code our classical optimization routine, which will be through gradient descent, in order to compute the ground state energy :"
   ]
  },
  {
   "cell_type": "code",
   "execution_count": 109,
   "metadata": {},
   "outputs": [
    {
     "data": {
      "image/png": "[encoded data removed]",
      "text/plain": [
       "<Figure size 640x480 with 1 Axes>"
      ]
     },
     "metadata": {},
     "output_type": "display_data"
    },
    {
     "name": "stdout",
     "output_type": "stream",
     "text": [
      "the ground state energy is : -7.675860946076592 Ha\n"
     ]
    }
   ],
   "source": [
    "def gradDescent2(cost_fn, params, stepsize, maxiter, epsilon) : #param are the initial parameters\n",
    "    a = np.array([params, params - gradient(cost_fn, params) * stepsize])\n",
    "    n = 0\n",
    "    while (n < maxiter) :\n",
    "        if abs(cost_fn(a[n]) - cost_fn(a[n+1])) < epsilon :\n",
    "            break\n",
    "        n += 1\n",
    "        a = np.vstack([a, a[n] - stepsize * gradient(cost_fn, a[n])])\n",
    "\n",
    "    e0 = [cost_fn(a[k]) for k in range(n+2)]\n",
    "    plt.plot(range(len(a)), e0)\n",
    "    plt.xlabel('Number of iterations')\n",
    "    plt.ylabel('Energy in Hartrees')\n",
    "    plt.show()\n",
    "    \n",
    "    return cost_fn(a[n+1]) , a[n+1]   \n",
    "\n",
    "\n",
    "energy, final_param = gradDescent2(optiCostFunction, param2, 0.05, 60, 1e-4)\n",
    "print(\"the ground state energy is :\", energy, 'Ha')"
   ]
  },
  {
   "cell_type": "markdown",
   "metadata": {},
   "source": [
    "We find a ground state energy of -7.66 Hartrees, while it is actually closer to -7,8 Hartrees. This shows that the energy landscape of the $LiH$ molecule is quite complex and highlights that ground state calculation is challenging computation for VQEs that is based on gradient-descent, which it our case might have converged to a local minima."
   ]
  },
  {
   "cell_type": "markdown",
   "metadata": {},
   "source": [
    "References :\n",
    "\n",
    "[1] Pennylane documentation, Variational Quantum Eigensolver :\n",
    "\n",
    "https://docs.pennylane.ai/projects/catalyst/en/latest/demos/adaptive_circuits_demo.html\n",
    "\n",
    "[2] Pennylane, Givens rotations for quantum chemistry :\n",
    "\n",
    "https://pennylane.ai/qml/demos/tutorial_givens_rotations/ \n",
    "\n",
    "[3] Pennylane,  Variational Quantum Eigensolver (VQE) | PennyLane Tutorial :\n",
    "\n",
    "https://www.youtube.com/watch?v=qiRtUUZ5s9s&ab_channel=PennyLane \n",
    "\n",
    "[4] Practical QC for Scientists, Parameter-shift rules :\n",
    "\n",
    "https://obm.physics.metu.edu.tr/intro-QC/courses/PHYS710/hands-on/hands-on-6/hands-on-6-book.html\n"
   ]
  }
 ],
 "metadata": {
  "kernelspec": {
   "display_name": "Python 3",
   "language": "python",
   "name": "python3"
  },
  "language_info": {
   "codemirror_mode": {
    "name": "ipython",
    "version": 3
   },
   "file_extension": ".py",
   "mimetype": "text/x-python",
   "name": "python",
   "nbconvert_exporter": "python",
   "pygments_lexer": "ipython3",
   "version": "3.12.1"
  }
 },
 "nbformat": 4,
 "nbformat_minor": 2
}
